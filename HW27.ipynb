{
 "cells": [
  {
   "cell_type": "code",
   "execution_count": 2,
   "metadata": {},
   "outputs": [
    {
     "name": "stdout",
     "output_type": "stream",
     "text": [
      "111111111111111\n",
      "122222222222221\n",
      "123333333333321\n",
      "123444444444321\n",
      "123455555554321\n",
      "123456666654321\n",
      "123456777654321\n",
      "123456787654321\n",
      "123456777654321\n",
      "123456666654321\n",
      "123455555554321\n",
      "123444444444321\n",
      "123333333333321\n",
      "122222222222221\n",
      "111111111111111\n"
     ]
    }
   ],
   "source": [
    "def print_darts_matrix(n):\n",
    "    matrix = [[0] * n for _ in range(n)]\n",
    "    \n",
    "    for i in range(n):\n",
    "        for j in range(n):\n",
    "            matrix[i][j] = min(i, j, n-1-i, n-1-j) + 1\n",
    "    \n",
    "    for row in matrix:\n",
    "        print(''.join(map(str, row)))\n",
    "\n",
    "n = 15\n",
    "print_darts_matrix(n)"
   ]
  },
  {
   "cell_type": "code",
   "execution_count": 4,
   "metadata": {},
   "outputs": [
    {
     "name": "stdout",
     "output_type": "stream",
     "text": [
      "Tab\n",
      "50\n"
     ]
    }
   ],
   "source": [
    "class Item:\n",
    "    def __init__(self, name, price, quantity):\n",
    "        self._name = name \n",
    "        self.price = price\n",
    "        self.quantity = quantity\n",
    "    \n",
    "    @property\n",
    "    def name(self):\n",
    "        return self._name.capitalize()\n",
    "    \n",
    "    @property\n",
    "    def total(self):\n",
    "        return self.price * self.quantity\n",
    "\n",
    "item = Item(\"tab\", 10, 5)\n",
    "print(item.name)\n",
    "print(item.total)"
   ]
  },
  {
   "cell_type": "code",
   "execution_count": 7,
   "metadata": {},
   "outputs": [
    {
     "name": "stdout",
     "output_type": "stream",
     "text": [
      "7\n"
     ]
    }
   ],
   "source": [
    "def count_elements(lst):\n",
    "    count = 0\n",
    "    for element in lst:\n",
    "        count += 1 \n",
    "        if isinstance(element, list):\n",
    "            count += count_elements(element)  \n",
    "    return count\n",
    "\n",
    "example_list = [1, 2, [3, 4, [5]]]\n",
    "print(count_elements(example_list))"
   ]
  }
 ],
 "metadata": {
  "kernelspec": {
   "display_name": "Python 3",
   "language": "python",
   "name": "python3"
  },
  "language_info": {
   "codemirror_mode": {
    "name": "ipython",
    "version": 3
   },
   "file_extension": ".py",
   "mimetype": "text/x-python",
   "name": "python",
   "nbconvert_exporter": "python",
   "pygments_lexer": "ipython3",
   "version": "3.12.3"
  }
 },
 "nbformat": 4,
 "nbformat_minor": 2
}
