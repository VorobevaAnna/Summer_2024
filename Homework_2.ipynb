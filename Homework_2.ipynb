{
 "cells": [
  {
   "cell_type": "code",
   "execution_count": 5,
   "metadata": {},
   "outputs": [
    {
     "name": "stdout",
     "output_type": "stream",
     "text": [
      "Таблица умножения на:  13\n",
      "13 x 1 = 13\n",
      "13 x 2 = 26\n",
      "13 x 3 = 39\n",
      "13 x 4 = 52\n",
      "13 x 5 = 65\n",
      "13 x 6 = 78\n",
      "13 x 7 = 91\n"
     ]
    }
   ],
   "source": [
    "#Задача 2.1\n",
    "n = int(input(\"Для какого числа: \"))\n",
    "s = int(input(\"На сколько чисел умножить:\"))   \n",
    "print(\"Таблица умножения на: \", n)   \n",
    "for u in range(1, s+1):     \n",
    "   print(n, 'x', u, '=', n * u)"
   ]
  },
  {
   "cell_type": "code",
   "execution_count": 2,
   "metadata": {},
   "outputs": [
    {
     "name": "stdout",
     "output_type": "stream",
     "text": [
      "[1, 2, 3, 4, 5, 6, 7, 8, 9, 10, 11, 12, 13]\n",
      "1\n"
     ]
    }
   ],
   "source": [
    "#Задача 2.2\n",
    "a = int(input(\"Размер списка: \"))\n",
    "lst = list(range(1, a+1))\n",
    "print(lst)\n",
    "def min(argument): \n",
    "    minn = argument[0]\n",
    "    for i in argument:\n",
    "        if i < minn:\n",
    "           minn = i\n",
    "    return minn\n",
    "result = min(lst)\n",
    "print(result)"
   ]
  },
  {
   "cell_type": "code",
   "execution_count": 4,
   "metadata": {},
   "outputs": [
    {
     "name": "stdout",
     "output_type": "stream",
     "text": [
      "3! = 6\n"
     ]
    }
   ],
   "source": [
    "#Задача 2.3\n",
    "num = int(input())\n",
    "fct = num\n",
    "for i in range(1, num):\n",
    "    fct = fct * i\n",
    "print(f\"{num}!\", \"=\", fct)"
   ]
  }
 ],
 "metadata": {
  "kernelspec": {
   "display_name": "Python 3",
   "language": "python",
   "name": "python3"
  },
  "language_info": {
   "codemirror_mode": {
    "name": "ipython",
    "version": 3
   },
   "file_extension": ".py",
   "mimetype": "text/x-python",
   "name": "python",
   "nbconvert_exporter": "python",
   "pygments_lexer": "ipython3",
   "version": "3.12.3"
  }
 },
 "nbformat": 4,
 "nbformat_minor": 2
}
