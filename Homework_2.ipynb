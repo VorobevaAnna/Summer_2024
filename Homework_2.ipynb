{
 "cells": [
  {
   "cell_type": "code",
   "execution_count": 7,
   "metadata": {},
   "outputs": [
    {
     "name": "stdout",
     "output_type": "stream",
     "text": [
      "Таблица умножения на:  7\n",
      "7 * 1 = 7\n",
      "7 * 2 = 14\n",
      "7 * 3 = 21\n",
      "7 * 4 = 28\n",
      "7 * 5 = 35\n",
      "7 * 6 = 42\n",
      "7 * 7 = 49\n",
      "7 * 8 = 56\n",
      "7 * 9 = 63\n",
      "7 * 10 = 70\n",
      "7 * 11 = 77\n",
      "7 * 12 = 84\n",
      "7 * 13 = 91\n",
      "7 * 14 = 98\n",
      "7 * 15 = 105\n",
      "7 * 16 = 112\n",
      "7 * 17 = 119\n",
      "7 * 18 = 126\n"
     ]
    }
   ],
   "source": [
    "#Задача 2.1\n",
    "n = int(input(\"Для какого числа: \"))\n",
    "s = int(input(\"На сколько чисел умножить:\"))   \n",
    "print(\"Таблица умножения на: \", n)   \n",
    "for u in range(1, s+1):     \n",
    "   print(n, '*', u, '=', n * u)"
   ]
  },
  {
   "cell_type": "code",
   "execution_count": 14,
   "metadata": {},
   "outputs": [
    {
     "name": "stdout",
     "output_type": "stream",
     "text": [
      "[1, 2, 3, 4, 5, 6, 7, 8, 9, 10, 11, 12, 13, 14, 15, 16, 17, 18, 19, 20, 21, 22, 23, 24, 25, 26, 27, 28, 29, 30, 31, 32, 33, 34, 35, 36, 37, 38, 39, 40, 41, 42, 43, 44, 45, 46, 47, 48, 49, 50, 51, 52, 53, 54, 55, 56, 57, 58, 59, 60, 61, 62, 63, 64, 65, 66, 67, 68, 69, 70, 71, 72, 73, 74, 75, 76, 77, 78]\n",
      "78\n"
     ]
    }
   ],
   "source": [
    "#Задача 2.2\n",
    "a = int(input(\"Размер списка: \"))\n",
    "lst = list(range(1, a+1))\n",
    "print(lst)\n",
    "def maximum(argument): \n",
    "    maxx = argument[0]\n",
    "    for i in argument:\n",
    "        if i > maxx:\n",
    "           maxx = i\n",
    "    return maxx\n",
    "result = maximum(lst)\n",
    "print(result)"
   ]
  },
  {
   "cell_type": "code",
   "execution_count": 23,
   "metadata": {},
   "outputs": [
    {
     "name": "stdout",
     "output_type": "stream",
     "text": [
      "!3 = 6\n"
     ]
    }
   ],
   "source": [
    "#Задача 2.3\n",
    "num = int(input())\n",
    "fct = num\n",
    "for i in range(1, num):\n",
    "    fct = fct * i\n",
    "print(f\"!{num}\", \"=\", fct)"
   ]
  }
 ],
 "metadata": {
  "kernelspec": {
   "display_name": "Python 3",
   "language": "python",
   "name": "python3"
  },
  "language_info": {
   "codemirror_mode": {
    "name": "ipython",
    "version": 3
   },
   "file_extension": ".py",
   "mimetype": "text/x-python",
   "name": "python",
   "nbconvert_exporter": "python",
   "pygments_lexer": "ipython3",
   "version": "3.12.3"
  }
 },
 "nbformat": 4,
 "nbformat_minor": 2
}
