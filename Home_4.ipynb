{
 "cells": [
  {
   "cell_type": "code",
   "execution_count": 9,
   "metadata": {},
   "outputs": [
    {
     "name": "stdout",
     "output_type": "stream",
     "text": [
      "5.0\n"
     ]
    }
   ],
   "source": [
    "def simple_calculator(expression):\n",
    "    operand1, operator, operand2 = expression.split()\n",
    "    \n",
    "    operand1 = int(operand1)\n",
    "    operand2 = int(operand2)\n",
    "    \n",
    "    if operator == '+':\n",
    "        result = operand1 + operand2\n",
    "    elif operator == '-':\n",
    "        result = operand1 - operand2\n",
    "    elif operator == '*':\n",
    "        result = operand1 * operand2\n",
    "    elif operator == '/':\n",
    "        if operand2 == 0:\n",
    "            return \"Деление на ноль\"\n",
    "        result = operand1 / operand2\n",
    "    else:\n",
    "        return \"Неизвестная операция\"\n",
    "    return result\n",
    "strr = input()\n",
    "print(simple_calculator(strr))\n",
    "\n",
    "\n"
   ]
  },
  {
   "cell_type": "code",
   "execution_count": 13,
   "metadata": {},
   "outputs": [
    {
     "name": "stdout",
     "output_type": "stream",
     "text": [
      "   1    2    3    4    5    6    7    8    9   10   11   12 \n",
      "  44   45   46   47   48   49   50   51   52   53   54   13 \n",
      "  43   80   81   82   83   84   85   86   87   88   55   14 \n",
      "  42   79  108  109  110  111  112  113  114   89   56   15 \n",
      "  41   78  107  128  129  130  131  132  115   90   57   16 \n",
      "  40   77  106  127  140  141  142  133  116   91   58   17 \n",
      "  39   76  105  126  139  144  143  134  117   92   59   18 \n",
      "  38   75  104  125  138  137  136  135  118   93   60   19 \n",
      "  37   74  103  124  123  122  121  120  119   94   61   20 \n",
      "  36   73  102  101  100   99   98   97   96   95   62   21 \n",
      "  35   72   71   70   69   68   67   66   65   64   63   22 \n",
      "  34   33   32   31   30   29   28   27   26   25   24   23 \n"
     ]
    }
   ],
   "source": [
    "def print_spiral(n):\n",
    "    d = {}  \n",
    "    x, y = 0, 0  \n",
    "    dx, dy = 1, 0  \n",
    "    directions = [(1, 0), (0, 1), (-1, 0), (0, -1)]  \n",
    "    direction_index = 0  \n",
    "\n",
    "    for i in range(1, n * n + 1):\n",
    "        d[(x, y)] = i  \n",
    "        nx, ny = x + dx, y + dy\n",
    "        if (nx, ny) in d or nx < 0 or nx >= n or ny < 0 or ny >= n:\n",
    "            direction_index = (direction_index + 1) % 4\n",
    "            dx, dy = directions[direction_index]\n",
    "            nx, ny = x + dx, y + dy\n",
    "        x, y = nx, ny\n",
    "    for i in range(n):\n",
    "        for j in range(n):\n",
    "            print(f\"{d[(j, i)]:4}\", end=' ')\n",
    "        print()\n",
    "n = int(input())\n",
    "print_spiral(n)\n"
   ]
  },
  {
   "cell_type": "code",
   "execution_count": 15,
   "metadata": {},
   "outputs": [
    {
     "name": "stdout",
     "output_type": "stream",
     "text": [
      "False\n"
     ]
    }
   ],
   "source": [
    "import string\n",
    "\n",
    "def clean_string(s):\n",
    "    return ''.join(filter(str.isalpha, s)).lower()\n",
    "\n",
    "def anagrams(s1, s2):\n",
    "    cleaned_s1 = sorted(clean_string(s1))\n",
    "    cleaned_s2 = sorted(clean_string(s2))\n",
    "    return cleaned_s1 == cleaned_s2\n",
    "\n",
    "p1 = input()\n",
    "p2 = input()\n",
    "print(anagrams(p1, p2))  "
   ]
  }
 ],
 "metadata": {
  "kernelspec": {
   "display_name": "Python 3",
   "language": "python",
   "name": "python3"
  },
  "language_info": {
   "codemirror_mode": {
    "name": "ipython",
    "version": 3
   },
   "file_extension": ".py",
   "mimetype": "text/x-python",
   "name": "python",
   "nbconvert_exporter": "python",
   "pygments_lexer": "ipython3",
   "version": "3.12.3"
  }
 },
 "nbformat": 4,
 "nbformat_minor": 2
}
