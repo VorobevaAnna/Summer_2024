{
 "cells": [
  {
   "cell_type": "code",
   "execution_count": 2,
   "metadata": {},
   "outputs": [
    {
     "name": "stdout",
     "output_type": "stream",
     "text": [
      "Уникальное число: 3\n"
     ]
    }
   ],
   "source": [
    "def find_unique_number(nums):\n",
    "    num_counts = {}\n",
    "    \n",
    "    for num in nums:\n",
    "        if num in num_counts:\n",
    "            num_counts[num] += 1\n",
    "        else:\n",
    "            num_counts[num] = 1\n",
    "    \n",
    "    for num, count in num_counts.items():\n",
    "        if count == 1:\n",
    "            return num\n",
    "\n",
    "nums = [2, 2, 2, 3, 2]\n",
    "unique_num = find_unique_number(nums)\n",
    "print(f\"Уникальное число: {unique_num}\")\n"
   ]
  },
  {
   "cell_type": "code",
   "execution_count": 5,
   "metadata": {},
   "outputs": [
    {
     "name": "stdout",
     "output_type": "stream",
     "text": [
      "1\n",
      "2\n",
      "3\n"
     ]
    }
   ],
   "source": [
    "def hamming_distance(str1, str2):\n",
    "    return sum(ch1 != ch2 for ch1, ch2 in zip(str1, str2))\n",
    "print(hamming_distance(\"abc\", \"abg\"))\n",
    "print(hamming_distance(\"abc\", \"aed\"))\n",
    "print(hamming_distance(\"abc\", \"xyz\"))\n"
   ]
  },
  {
   "cell_type": "code",
   "execution_count": 7,
   "metadata": {},
   "outputs": [
    {
     "name": "stdout",
     "output_type": "stream",
     "text": [
      "True\n",
      "True\n",
      "True\n",
      "False\n",
      "False\n",
      "False\n"
     ]
    }
   ],
   "source": [
    "def is_isomorphic(str1, str2):\n",
    "    if len(str1) != len(str2):\n",
    "        return False\n",
    "    \n",
    "    mapping_str1_to_str2 = {}\n",
    "    mapping_str2_to_str1 = {}\n",
    "    \n",
    "    for ch1, ch2 in zip(str1, str2):\n",
    "        if ch1 in mapping_str1_to_str2 and mapping_str1_to_str2[ch1] != ch2:\n",
    "            return False\n",
    "        if ch2 in mapping_str2_to_str1 and mapping_str2_to_str1[ch2] != ch1:\n",
    "            return False\n",
    "        mapping_str1_to_str2[ch1] = ch2\n",
    "        mapping_str2_to_str1[ch2] = ch1\n",
    "    \n",
    "    return True\n",
    "\n",
    "# Пример использования функции\n",
    "print(is_isomorphic(\"CBAABC\", \"DEFFED\"))  \n",
    "print(is_isomorphic(\"XXX\", \"YYY\"))        \n",
    "print(is_isomorphic(\"RAMBUNCTIOUSLY\", \"THERMODYNAMICS\"))\n",
    "print(is_isomorphic(\"AB\", \"CC\"))    \n",
    "print(is_isomorphic(\"XXY\", \"XYY\"))  \n",
    "print(is_isomorphic(\"ABAB\", \"CD\")) \n"
   ]
  }
 ],
 "metadata": {
  "kernelspec": {
   "display_name": "Python 3",
   "language": "python",
   "name": "python3"
  },
  "language_info": {
   "codemirror_mode": {
    "name": "ipython",
    "version": 3
   },
   "file_extension": ".py",
   "mimetype": "text/x-python",
   "name": "python",
   "nbconvert_exporter": "python",
   "pygments_lexer": "ipython3",
   "version": "3.12.3"
  }
 },
 "nbformat": 4,
 "nbformat_minor": 2
}
