{
 "cells": [
  {
   "cell_type": "code",
   "execution_count": 2,
   "metadata": {},
   "outputs": [],
   "source": [
    "import statistics"
   ]
  },
  {
   "cell_type": "markdown",
   "metadata": {},
   "source": [
    "Task 1"
   ]
  },
  {
   "cell_type": "code",
   "execution_count": 23,
   "metadata": {},
   "outputs": [
    {
     "name": "stdout",
     "output_type": "stream",
     "text": [
      "Средняя зарплата: 4500.0\n"
     ]
    }
   ],
   "source": [
    "salaries = []\n",
    "count = 0\n",
    "while True:\n",
    "    try:\n",
    "        salary = int(input(\"Введите зарплату сотрудника или 0 для окончания ввода: \"))\n",
    "        if salary == 0:\n",
    "            break\n",
    "        salaries.append(salary)\n",
    "        count += 1\n",
    "    except ValueError:\n",
    "        print(\"Некорректный ввод.\")\n",
    "if count > 0:\n",
    "    average_salary = sum(salaries) / count\n",
    "    print(f\"Средняя зарплата: {average_salary}\")\n",
    "else:\n",
    "    print(\"Нет данных.\")"
   ]
  },
  {
   "cell_type": "markdown",
   "metadata": {},
   "source": [
    "Task 2"
   ]
  },
  {
   "cell_type": "code",
   "execution_count": 6,
   "metadata": {},
   "outputs": [],
   "source": [
    "def countnumbers(number):\n",
    "    c = [0]  *  10\n",
    "    number_str = str(number)\n",
    "    for d in number_str:\n",
    "        c[int(d)] += 1\n",
    "    for i in range(10):\n",
    "        print(f\"{i}-{c[i]}\", end=' ')"
   ]
  },
  {
   "cell_type": "code",
   "execution_count": 8,
   "metadata": {},
   "outputs": [
    {
     "name": "stdout",
     "output_type": "stream",
     "text": [
      "0-9 1-1 2-1 3-1 4-1 5-1 6-1 7-1 8-1 9-1 "
     ]
    }
   ],
   "source": [
    "number = int(input())\n",
    "countnumbers(number)"
   ]
  },
  {
   "cell_type": "markdown",
   "metadata": {},
   "source": [
    "Task 3"
   ]
  },
  {
   "cell_type": "code",
   "execution_count": 15,
   "metadata": {},
   "outputs": [],
   "source": [
    "def longest_words(sentence):\n",
    "    words = sentence.split()\n",
    "    longest_word = None\n",
    "    long = 0\n",
    "    \n",
    "    for word in words:\n",
    "        if len(word) > long:\n",
    "            longest_word = word\n",
    "            long = len(word)\n",
    "    \n",
    "    return longest_word\n",
    "\n",
    "def all_longest_words(sentence):\n",
    "    words = sentence.split()\n",
    "    longest_word = None\n",
    "    long = 0\n",
    "    \n",
    "    for word in words:\n",
    "        if len(word) == long:\n",
    "            if longest_word is not None:\n",
    "                print(longest_word)\n",
    "            longest_word = word\n",
    "        elif len(word) > long:\n",
    "            longest_word = word\n",
    "            long = len(word)\n",
    "            print(longest_word)"
   ]
  },
  {
   "cell_type": "code",
   "execution_count": 18,
   "metadata": {},
   "outputs": [
    {
     "name": "stdout",
     "output_type": "stream",
     "text": [
      "фотограмметрия\n",
      "Простое\n",
      "предложение\n",
      "фотограмметрия\n",
      "None\n"
     ]
    }
   ],
   "source": [
    "sentence = \"Простое предложение с длинным словом - фотограмметрия\"\n",
    "print(longest_words(sentence))\n",
    "print(all_longest_words(sentence))   \n"
   ]
  }
 ],
 "metadata": {
  "kernelspec": {
   "display_name": "Python 3",
   "language": "python",
   "name": "python3"
  },
  "language_info": {
   "codemirror_mode": {
    "name": "ipython",
    "version": 3
   },
   "file_extension": ".py",
   "mimetype": "text/x-python",
   "name": "python",
   "nbconvert_exporter": "python",
   "pygments_lexer": "ipython3",
   "version": "3.12.3"
  }
 },
 "nbformat": 4,
 "nbformat_minor": 2
}
