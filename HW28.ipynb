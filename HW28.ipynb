{
 "cells": [
  {
   "cell_type": "code",
   "execution_count": 2,
   "metadata": {},
   "outputs": [
    {
     "name": "stdout",
     "output_type": "stream",
     "text": [
      "0\n",
      "10\n"
     ]
    }
   ],
   "source": [
    "def count_inversions(arr):\n",
    "    def merge_and_count(arr, temp_arr, left, mid, right):\n",
    "        i = left    \n",
    "        j = mid + 1 \n",
    "        k = left    \n",
    "        inv_count = 0\n",
    "        while i <= mid and j <= right:\n",
    "            if arr[i] <= arr[j]:\n",
    "                temp_arr[k] = arr[i]\n",
    "                i += 1\n",
    "            else:\n",
    "                temp_arr[k] = arr[j]\n",
    "                inv_count += (mid-i + 1)\n",
    "                j += 1\n",
    "            k += 1\n",
    "        while i <= mid:\n",
    "            temp_arr[k] = arr[i]\n",
    "            i += 1\n",
    "            k += 1\n",
    "        while j <= right:\n",
    "            temp_arr[k] = arr[j]\n",
    "            j += 1\n",
    "            k += 1\n",
    "        for i in range(left, right + 1):\n",
    "            arr[i] = temp_arr[i]\n",
    "        \n",
    "        return inv_count\n",
    "\n",
    "    def merge_sort_and_count(arr, temp_arr, left, right):\n",
    "        inv_count = 0\n",
    "        if left < right:\n",
    "            mid = (left + right) // 2\n",
    "            \n",
    "            inv_count += merge_sort_and_count(arr, temp_arr, left, mid)\n",
    "            inv_count += merge_sort_and_count(arr, temp_arr, mid + 1, right)\n",
    "            inv_count += merge_and_count(arr, temp_arr, left, mid, right)\n",
    "        \n",
    "        return inv_count\n",
    "\n",
    "    return merge_sort_and_count(arr, [0]*len(arr), 0, len(arr)-1)\n",
    "\n",
    "# Примеры использования функции\n",
    "print(count_inversions([1, 2, 3, 4, 5]))  \n",
    "print(count_inversions([5, 4, 3, 2, 1])) \n"
   ]
  },
  {
   "cell_type": "code",
   "execution_count": 3,
   "metadata": {},
   "outputs": [
    {
     "name": "stdout",
     "output_type": "stream",
     "text": [
      "21\n"
     ]
    }
   ],
   "source": [
    "import heapq\n",
    "\n",
    "def min_path_sum(matrix, start, end):\n",
    "    rows = len(matrix)\n",
    "    cols = len(matrix[0])\n",
    "\n",
    "    if matrix[start[0]][start[1]] < 0 or matrix[end[0]][end[1]] < 0:\n",
    "        return float('inf')\n",
    "\n",
    "    directions = [(-1, 0), (1, 0), (0, -1), (0, 1)]\n",
    "    heap = [(matrix[start[0]][start[1]], start)] \n",
    "    visited = set()\n",
    "    \n",
    "    while heap:\n",
    "        current_sum, (x, y) = heapq.heappop(heap)\n",
    "        \n",
    "        if (x, y) == end:\n",
    "            return current_sum\n",
    "        \n",
    "        if (x, y) in visited:\n",
    "            continue\n",
    "        \n",
    "        visited.add((x, y))\n",
    "        \n",
    "        for dx, dy in directions:\n",
    "            nx, ny = x + dx, y + dy\n",
    "            if 0 <= nx < rows and 0 <= ny < cols and (nx, ny) not in visited and matrix[nx][ny] >= 0:\n",
    "                heapq.heappush(heap, (current_sum + matrix[nx][ny], (nx, ny)))\n",
    "    \n",
    "    return float('inf')\n",
    "\n",
    "matrix = [\n",
    "    [1, 2, 3],\n",
    "    [4, -1, 6],\n",
    "    [7, 8, 9]\n",
    "]\n",
    "start = (0, 0)\n",
    "end = (2, 2)\n",
    "print(min_path_sum(matrix, start, end))\n"
   ]
  },
  {
   "cell_type": "code",
   "execution_count": 4,
   "metadata": {},
   "outputs": [
    {
     "name": "stdout",
     "output_type": "stream",
     "text": [
      "1\n",
      "3\n",
      "127\n"
     ]
    }
   ],
   "source": [
    "def hanoi_moves(n):\n",
    "    if n == 1:\n",
    "        return 1\n",
    "    else:\n",
    "        return 2 * hanoi_moves(n - 1) + 1\n",
    "print(hanoi_moves(1)) \n",
    "print(hanoi_moves(2))  \n",
    "print(hanoi_moves(7)) "
   ]
  }
 ],
 "metadata": {
  "kernelspec": {
   "display_name": "Python 3",
   "language": "python",
   "name": "python3"
  },
  "language_info": {
   "codemirror_mode": {
    "name": "ipython",
    "version": 3
   },
   "file_extension": ".py",
   "mimetype": "text/x-python",
   "name": "python",
   "nbconvert_exporter": "python",
   "pygments_lexer": "ipython3",
   "version": "3.12.3"
  }
 },
 "nbformat": 4,
 "nbformat_minor": 2
}
